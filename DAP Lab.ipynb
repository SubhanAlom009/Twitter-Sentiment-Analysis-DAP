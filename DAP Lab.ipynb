{
 "cells": [
  {
   "cell_type": "markdown",
   "id": "a3a10e50",
   "metadata": {},
   "source": [
    "## Importing Required Libraries\n",
    "\n",
    "In this section, we import the necessary libraries for:\n",
    "- Data manipulation (`pandas`, `numpy`)\n",
    "- Natural Language Processing (NLP) using `nltk`\n",
    "- Data visualization (`matplotlib`, `seaborn`)\n",
    "- Machine Learning (`sklearn`, `imblearn`)\n",
    "\n",
    "NLTK resources such as stopwords, tokenizers, and POS taggers are also downloaded.\n"
   ]
  },
  {
   "cell_type": "code",
   "execution_count": 2,
   "id": "a33556fe",
   "metadata": {},
   "outputs": [
    {
     "name": "stderr",
     "output_type": "stream",
     "text": [
      "[nltk_data] Downloading package punkt_tab to\n",
      "[nltk_data]     C:\\Users\\subha\\AppData\\Roaming\\nltk_data...\n",
      "[nltk_data]   Package punkt_tab is already up-to-date!\n",
      "[nltk_data] Downloading package stopwords to\n",
      "[nltk_data]     C:\\Users\\subha\\AppData\\Roaming\\nltk_data...\n",
      "[nltk_data]   Package stopwords is already up-to-date!\n",
      "[nltk_data] Downloading package averaged_perceptron_tagger_eng to\n",
      "[nltk_data]     C:\\Users\\subha\\AppData\\Roaming\\nltk_data...\n",
      "[nltk_data]   Package averaged_perceptron_tagger_eng is already up-to-\n",
      "[nltk_data]       date!\n",
      "[nltk_data] Downloading package wordnet to\n",
      "[nltk_data]     C:\\Users\\subha\\AppData\\Roaming\\nltk_data...\n",
      "[nltk_data]   Package wordnet is already up-to-date!\n"
     ]
    }
   ],
   "source": [
    "#Import Statements\n",
    "import pandas as pd\n",
    "import string\n",
    "import nltk\n",
    "import seaborn as sns\n",
    "nltk.download('punkt_tab')\n",
    "nltk.download('stopwords')\n",
    "nltk.download('averaged_perceptron_tagger_eng')\n",
    "nltk.download('wordnet')\n",
    "from nltk.corpus import stopwords\n",
    "from nltk import pos_tag\n",
    "from nltk.tokenize import word_tokenize\n",
    "from nltk.stem import WordNetLemmatizer\n",
    "lemmatizer = WordNetLemmatizer()\n",
    "from sklearn.metrics import confusion_matrix\n",
    "from sklearn.model_selection import train_test_split\n",
    "from imblearn.over_sampling import RandomOverSampler\n",
    "from sklearn.ensemble import RandomForestClassifier\n",
    "import numpy as np"
   ]
  },
  {
   "cell_type": "markdown",
   "id": "d6ef9588",
   "metadata": {},
   "source": [
    "## Loading the Twitter Dataset\n",
    "\n",
    "We load the Twitter dataset using pandas to begin preprocessing. The first few rows of the dataset are displayed to get an overview of the data structure.\n"
   ]
  },
  {
   "cell_type": "code",
   "execution_count": null,
   "id": "e36a7383",
   "metadata": {},
   "outputs": [
    {
     "name": "stdout",
     "output_type": "stream",
     "text": [
      "   id  label                                              tweet\n",
      "0   1      0   @user when a father is dysfunctional and is s...\n",
      "1   2      0  @user @user thanks for #lyft credit i can't us...\n",
      "2   3      0                                bihday your majesty\n",
      "3   4      0  #model   i love u take with u all the time in ...\n",
      "4   5      0             factsguide: society now    #motivation\n"
     ]
    }
   ],
   "source": [
    "#Read the dataset into the pandas DataFrame.\n",
    "df = pd.read_csv(\"C:/Users/subha/Downloads/archive (1)/twitter.csv\")\n",
    "print(df.head)"
   ]
  },
  {
   "cell_type": "markdown",
   "id": "ac66de8c",
   "metadata": {},
   "source": [
    "## Defining Text Preprocessing Functions\n",
    "\n",
    "This block contains custom functions for:\n",
    "- Cleaning text by removing punctuation and special characters.\n",
    "- Tokenizing the text.\n",
    "- Removing stopwords.\n",
    "- POS tagging and lemmatizing words.\n",
    "- Creating a vocabulary dictionary.\n",
    "- Converting tokens to integer IDs.\n",
    "- Standardizing the token list to a fixed length (9).\n",
    "\n",
    "This prepares the text for further analysis and model training.\n"
   ]
  },
  {
   "cell_type": "code",
   "execution_count": 6,
   "id": "4d9f7eb5",
   "metadata": {},
   "outputs": [],
   "source": [
    "vocabulary = set()\n",
    "def pre_process(text):\n",
    "    global count\n",
    "    text = text.strip()\n",
    "    result = \"\"\n",
    "    for char in text:\n",
    "        if (char.isalpha() and char in string.ascii_letters) or char == ' ':\n",
    "            result += char\n",
    "    word_tokens = word_tokenize(result)\n",
    "    stop_words = set(stopwords.words('english'))\n",
    "    filtered_sentence = [w for w in word_tokens if not w.lower() in stop_words]\n",
    "    pos_tags = pos_tag(filtered_sentence)\n",
    "    lemmatized_words = [\n",
    "        lemmatizer.lemmatize(word, pos='v') if tag.startswith('V')  \n",
    "        else lemmatizer.lemmatize(word, pos='n') if tag.startswith('N')\n",
    "        else lemmatizer.lemmatize(word, pos='a') if tag.startswith('J')\n",
    "        else word\n",
    "        for word, tag in pos_tags\n",
    "    ]\n",
    "    update_vocabulary(lemmatized_words)\n",
    "    return ' '.join(lemmatized_words)\n",
    "def update_vocabulary(tokens):\n",
    "    global vocabulary\n",
    "    vocabulary.update(tokens)\n",
    "def create_vocab():\n",
    "    global vocabulary\n",
    "    vocabulary = list(vocabulary)\n",
    "    dict1 = {}\n",
    "    for i in range(1, len(vocabulary)+1):\n",
    "        dict1.update({vocabulary[i-1]:i})\n",
    "    return dict1\n",
    "def tokenize(text):\n",
    "    global vocab\n",
    "    word_tokens = word_tokenize(text)\n",
    "    return [vocab[w] for w in word_tokens]\n",
    "def standardize(text):\n",
    "    global vocab\n",
    "    if len(text) < 9:\n",
    "        while len(text) != 9:\n",
    "            text.append(vocab['<PAD>'])\n",
    "    return text[:9]"
   ]
  },
  {
   "cell_type": "markdown",
   "id": "907b8504",
   "metadata": {},
   "source": [
    "## Preprocessing and Tokenizing Tweets\n",
    "\n",
    "We apply the defined preprocessing functions to the tweet data. This includes cleaning, lemmatizing, tokenizing, and converting tokens into numerical format using the generated vocabulary.\n"
   ]
  },
  {
   "cell_type": "code",
   "execution_count": 7,
   "id": "8e29a2ac",
   "metadata": {},
   "outputs": [],
   "source": [
    "df['tweet'] = df['tweet'].apply(pre_process)\n",
    "vocab = create_vocab()\n",
    "temp = len(vocab)\n",
    "df['tweet'] = df['tweet'].apply(tokenize)\n",
    "vocab.update({\"<OOV>\":0, \"<PAD>\": temp})\n",
    "df['tweet'] = df['tweet'].apply(standardize)"
   ]
  },
  {
   "cell_type": "markdown",
   "id": "769d46df",
   "metadata": {},
   "source": [
    "## Visualizing Class Distribution\n",
    "\n",
    "A bar chart is plotted to visualize the distribution of tweet classes (labels) in the dataset. This helps understand any imbalance in class representation.\n"
   ]
  },
  {
   "cell_type": "code",
   "execution_count": 8,
   "id": "d3820b3e",
   "metadata": {},
   "outputs": [
    {
     "data": {
      "text/plain": [
       "<BarContainer object of 2 artists>"
      ]
     },
     "execution_count": 8,
     "metadata": {},
     "output_type": "execute_result"
    },
    {
     "data": {
      "image/png": "[encoded data removed]",
      "text/plain": [
       "<Figure size 640x480 with 1 Axes>"
      ]
     },
     "metadata": {},
     "output_type": "display_data"
    }
   ],
   "source": [
    "count = {}\n",
    "for label in df['label']:\n",
    "    if label in count:\n",
    "        count[label]+=1\n",
    "    else:\n",
    "        count[label]=1\n",
    "import matplotlib.pyplot as plt\n",
    "x = count.keys()\n",
    "y = count.values()\n",
    "plt.bar(x, y)"
   ]
  },
  {
   "cell_type": "markdown",
   "id": "eebad660",
   "metadata": {},
   "source": [
    "## Balancing the Dataset using Random Over Sampling\n",
    "\n",
    "The dataset is balanced using `RandomOverSampler` to handle class imbalance, which is crucial for building a fair classification model.\n"
   ]
  },
  {
   "cell_type": "code",
   "execution_count": 9,
   "id": "0cc7d145",
   "metadata": {},
   "outputs": [
    {
     "name": "stdout",
     "output_type": "stream",
     "text": [
      "(59440, 9)\n"
     ]
    }
   ],
   "source": [
    "ros = RandomOverSampler(sampling_strategy='auto', random_state = 0)\n",
    "X_data = df.filter(['tweet'], axis=1)\n",
    "y_data = df.filter(['label'], axis=1)\n",
    "X_res, y_res = ros.fit_resample(X_data, y_data)\n",
    "X_res = X_res.values\n",
    "y_res = y_res.values.ravel()\n",
    "X_res = np.array([np.array(w[0]) for w in X_res])\n",
    "print(X_res.shape)\n"
   ]
  },
  {
   "cell_type": "markdown",
   "id": "dc97e52a",
   "metadata": {},
   "source": [
    "## Splitting Data into Training and Testing Sets\n",
    "\n",
    "The balanced dataset is split into training and testing sets using an 90-10 ratio. This is to evaluate model performance on unseen data.\n"
   ]
  },
  {
   "cell_type": "code",
   "execution_count": 11,
   "id": "ee3a639f",
   "metadata": {},
   "outputs": [
    {
     "name": "stdout",
     "output_type": "stream",
     "text": [
      "(53496, 9)\n",
      "(53496,)\n",
      "(5944, 9)\n",
      "(5944,)\n"
     ]
    }
   ],
   "source": [
    "X_train, X_test, y_train, y_test = train_test_split(X_res, y_res, test_size = 0.1,random_state= 0, shuffle=True)\n",
    "\n",
    "print(X_train.shape)\n",
    "print(y_train.shape)\n",
    "print(X_test.shape)\n",
    "print(y_test.shape)"
   ]
  },
  {
   "cell_type": "markdown",
   "id": "4730df20",
   "metadata": {},
   "source": [
    "## Training the Random Forest Model\n",
    "\n",
    "A `RandomForestClassifier` is trained on the training dataset. Both training and testing accuracies are printed to evaluate the model's performance.\n"
   ]
  },
  {
   "cell_type": "code",
   "execution_count": 12,
   "id": "20e26a45",
   "metadata": {},
   "outputs": [
    {
     "name": "stdout",
     "output_type": "stream",
     "text": [
      "Training Accuracy: 99.96\n",
      "Test Accuracy: 99.87\n"
     ]
    }
   ],
   "source": [
    "clf = RandomForestClassifier(n_estimators = 100)\n",
    "clf.fit(X_train, y_train)\n",
    "training_accuracy = clf.score(X_train, y_train)\n",
    "test_accuracy = clf.score(X_test, y_test)\n",
    "print(f\"Training Accuracy: {training_accuracy*100:.2f}\")\n",
    "print(f\"Test Accuracy: {test_accuracy*100:.2f}\")"
   ]
  },
  {
   "cell_type": "markdown",
   "id": "06afec42",
   "metadata": {},
   "source": [
    "## Evaluating Model using Confusion Matrix\n",
    "\n",
    "The trained model is evaluated using a confusion matrix to visualize the number of correct and incorrect predictions for each class. A heatmap is generated using `seaborn`.\n"
   ]
  },
  {
   "cell_type": "code",
   "execution_count": 13,
   "id": "1650e9ab",
   "metadata": {},
   "outputs": [
    {
     "data": {
      "image/png": "[encoded data removed]",
      "text/plain": [
       "<Figure size 800x600 with 2 Axes>"
      ]
     },
     "metadata": {},
     "output_type": "display_data"
    }
   ],
   "source": [
    "y_pred = clf.predict(X_test)\n",
    "cm = confusion_matrix(y_test, y_pred)\n",
    "plt.figure(figsize=(8, 6))\n",
    "sns.heatmap(cm, annot=True, fmt=\"d\", cmap=\"Blues\", xticklabels=['Class 0', 'Class 1'], yticklabels=['Class 0', 'Class 1'])\n",
    "plt.title(\"Confusion Matrix\")\n",
    "plt.xlabel(\"Predicted\")\n",
    "plt.ylabel(\"Actual\")\n",
    "plt.show()"
   ]
  },
  {
   "cell_type": "markdown",
   "id": "51f62890",
   "metadata": {},
   "source": [
    "## Conclusion\n",
    "\n",
    "In this lab, we performed sentiment classification on a Twitter dataset using the following pipeline:\n",
    "\n",
    "1. Cleaned and preprocessed the tweet data using NLP techniques like tokenization, lemmatization, and stopword removal.\n",
    "2. Converted textual data into numerical format using a custom vocabulary mapping.\n",
    "3. Handled class imbalance using RandomOverSampler.\n",
    "4. Trained a Random Forest classifier to predict sentiment labels.\n",
    "5. Evaluated model performance using accuracy metrics and a confusion matrix.\n",
    "\n",
    "The Random Forest model achieved a reasonably good performance, and the preprocessing pipeline ensures generalizability. Future improvements could include using more advanced NLP models like TF-IDF, Word2Vec, or transformer-based models (e.g., BERT) for better context understanding and accuracy.\n"
   ]
  },
  {
   "cell_type": "code",
   "execution_count": null,
   "id": "d65fef78",
   "metadata": {},
   "outputs": [],
   "source": []
  },
  {
   "cell_type": "code",
   "execution_count": null,
   "id": "812706b0",
   "metadata": {},
   "outputs": [],
   "source": []
  }
 ],
 "metadata": {
  "kernelspec": {
   "display_name": "Python 3",
   "language": "python",
   "name": "python3"
  },
  "language_info": {
   "codemirror_mode": {
    "name": "ipython",
    "version": 3
   },
   "file_extension": ".py",
   "mimetype": "text/x-python",
   "name": "python",
   "nbconvert_exporter": "python",
   "pygments_lexer": "ipython3",
   "version": "3.11.9"
  }
 },
 "nbformat": 4,
 "nbformat_minor": 5
}
